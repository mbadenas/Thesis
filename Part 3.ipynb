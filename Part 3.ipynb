{
 "cells": [
  {
   "cell_type": "markdown",
   "metadata": {},
   "source": [
    "# Part 3 - Calculation of the Period and overall Transit Time "
   ]
  },
  {
   "cell_type": "code",
   "execution_count": 98,
   "metadata": {
    "collapsed": true
   },
   "outputs": [],
   "source": [
    "%matplotlib inline\n",
    "import pandas as pd\n",
    "import transit\n",
    "import numpy as np\n",
    "import matplotlib.pyplot as plt\n",
    "import scipy.optimize as op\n",
    "import scipy.signal as sig\n",
    "from scipy.signal import argrelextrema\n",
    "import emcee\n",
    "#import ipdb\n",
    "\n",
    "import corner\n",
    "import scipy as sp\n",
    "from scipy.optimize import curve_fit\n",
    "\n",
    "import matplotlib.pyplot as plt\n",
    "import astroML \n",
    "from astroML.plotting import setup_text_plots\n",
    "setup_text_plots(fontsize=10, usetex=True)"
   ]
  },
  {
   "cell_type": "code",
   "execution_count": 99,
   "metadata": {
    "collapsed": true
   },
   "outputs": [],
   "source": [
    "physical = pd.read_excel('Physical.xlsx', sheetname='Sheet1')\n",
    "targetParams = pd.read_excel('Results.xlsx', sheetname='TAP')\n",
    "\n",
    "\n",
    "class Star:    \n",
    "    def __init__(self, name, midts, per, per_err, mass, mass_err, radius,\n",
    "                 radius_err, teff, teff_err, logg, feh, b, b_err, rprs, rp,timeLC, fluxLC):\n",
    "        \n",
    "        self.name = name\n",
    "        self.midts = midts\n",
    "        self.ecc = 0.0\n",
    "        self.per = per\n",
    "        self.per_err = per_err\n",
    "        \n",
    "        self.mass = mass\n",
    "        self.mass_err = mass_err\n",
    "        self.radius = radius\n",
    "        self.radius_err = radius_err\n",
    "        \n",
    "        self.teff = teff\n",
    "        self.teff_err = teff_err\n",
    "        self.logg = logg\n",
    "        self.feh = feh\n",
    "        \n",
    "        self.b = b\n",
    "        self.b_err = b_err\n",
    "        self.rprs = rprs\n",
    "        self.depth = rprs ** 2 # Transit depth in absolute terms. To 1st order (assuming stellar disk has uniform brightness and neglecting any flux coming from planet), the ratio X of the observed change in flux, Delta(F), to that of the stellar flux F is: X = (Rp/Rs)^2 = depth.\n",
    "        \n",
    "        self.rp = rp #Earth radii\n",
    "        self.mp = 2.69*(rp)**(0.93) #Weiss & Marcy rel'n. Rp needs to be in Earth radii\n",
    "        \n",
    "        #self.lld = lld # Linear LD coeff (Joey)\n",
    "        #self.qld = qld # Quadratic LD coeff (Joey)  \n",
    "        \n",
    "        self.u1 = 0.0 # Claret\n",
    "        self.u2 = 0.0 # Claret\n",
    "        self.diffld = u2 - u1\n",
    "        \n",
    "        self.timeLC = timeLC\n",
    "        self.fluxLC = fluxLC\n",
    "        \n",
    "        self.transits = np.empty(0)\n",
    "        self.transRange = np.empty(0)\n",
    "        self.transWindow = np.empty(0)\n",
    "        self.flag = np.empty(0)\n",
    "        self.f_trans = np.empty(0)\n",
    "        self.t_trans = np.empty(0)\n",
    "        self.dt = np.empty(0)\n",
    "        self.error_foldedLC = np.empty(0)\n",
    "        self.error_foldedLC_final = np.empty(0)\n",
    "        \n",
    "        \n",
    "        self.optimize1 = np.empty(0)\n",
    "       \n",
    "        #Part 2\n",
    "        self.dfdt = np.empty(0)\n",
    "        self.t0fit = np.empty(0)\n",
    "        self.f0fit = np.empty(0)\n",
    "        self.dfdtfit = np.empty(0)\n",
    "        self.sigmafit = np.empty(0)\n",
    "        \n",
    "        self.t0fit_MCMC = np.empty(0) \n",
    "        self.f0fit_MCMC = np.empty(0) \n",
    "        self.dfdtfit_MCMC = np.empty(0) \n",
    "        self.sigmafit_MCMC = np.empty(0) \n",
    "       \n",
    "        self.p_final = 0.0\n",
    "        self.t0_final = 0.0\n",
    "        \n",
    "    def Print(self):\n",
    "        print(\"Star {}\".format(self.name))"
   ]
  },
  {
   "cell_type": "code",
   "execution_count": 100,
   "metadata": {
    "collapsed": true
   },
   "outputs": [],
   "source": [
    "num = 12"
   ]
  },
  {
   "cell_type": "code",
   "execution_count": 101,
   "metadata": {
    "collapsed": true
   },
   "outputs": [],
   "source": [
    "tKep = 29.42/(60.0*24.0)\n",
    "transit_range = np.array([0.4, 0.18, 0.07, 0.15, 0.12, 0.08, 0.08, 0.12, 0.15, 0.08, 0.18, 0.15])\n",
    "tr_window = transit_range+transit_range # In days"
   ]
  },
  {
   "cell_type": "code",
   "execution_count": 102,
   "metadata": {
    "collapsed": true
   },
   "outputs": [],
   "source": [
    "targets = []\n",
    "for i in range(0,num):\n",
    "    name = \"%.0f\" % targetParams[\"EPIC\"][i]\n",
    "    midts = targetParams[\"midts\"][i]\n",
    "    per = targetParams[\"per\"][i] #days\n",
    "    \n",
    "    per_lo = targetParams[\"per_lo\"][i]\n",
    "    per_hi = targetParams[\"per_hi\"][i]\n",
    "    per_err = np.mean([per_lo, per_hi])\n",
    "    \n",
    "    # Stellar mass\n",
    "    mass = physical[\"mass\"][i]\n",
    "    mass_lo = physical[\"mass_lo\"][i]\n",
    "    mass_hi = physical[\"mass_hi\"][i]\n",
    "    mass_err = np.mean([mass_lo, mass_hi])\n",
    "    \n",
    "    # Stellar radius \n",
    "    radius = physical[\"radius\"][i]\n",
    "    radius_lo = physical[\"radius_lo\"][i]\n",
    "    radius_hi = physical[\"radius_hi\"][i]\n",
    "    radius_err = np.mean([radius_lo, radius_hi])\n",
    "    \n",
    "    #Effective temperature (In Kelvin)\n",
    "    teff = physical[\"Teff\"][i]\n",
    "    teff_lo = physical[\"Teff_lo\"][i]\n",
    "    teff_hi = physical[\"Teff_hi\"][i]\n",
    "    teff_err = np.mean([teff_lo, teff_hi])\n",
    "    \n",
    "    #Logg\n",
    "    logg = physical[\"logg\"][i]\n",
    "    feh = physical[\"feh\"][i]\n",
    "    \n",
    "    # Impact parameter b\n",
    "    b = targetParams[\"b\"][i]\n",
    "    b_lo = targetParams[\"b_lo\"][i]\n",
    "    b_hi = targetParams[\"b_hi\"][i]\n",
    "    b_err = np.mean([b_lo, b_hi])\n",
    "        \n",
    "    rprs = targetParams[\"rp/rs\"][i] # Ratio Rp/Rs\n",
    "    rprs_lo = targetParams[\"rp/rs_lo\"][i]\n",
    "    rprs_hi = targetParams[\"rp/rs_hi\"][i]\n",
    "    rprs_err = np.mean([rprs_lo, rprs_hi])\n",
    "    \n",
    "    rp = targetParams[\"rp\"][i] # Planetary radius (Earth radii)\n",
    "    \n",
    "    u1 = 0.0\n",
    "    u2 = 0.0\n",
    "    \n",
    "    #lld = targetParams[\"LLD\"][i] # Linear \n",
    "    #qld = targetParams[\"QLD\"][i] # Quadratic\n",
    "    \n",
    "    # This will upload LC data\n",
    "    data = pd.read_table(name+\"transits.csv\", sep=',', dtype = {'flux': np.float64}, header = None, names=['time', 'flux'])\n",
    "    \n",
    "    timeLC = data['time']\n",
    "    fluxLC = data['flux']\n",
    "\n",
    "    trange = transit_range[i]\n",
    "    twind = tr_window[i]\n",
    " \n",
    "    star = Star(name, midts, per, per_err, mass, mass_err, radius, \n",
    "               radius_err, teff, teff_err, logg, feh, b, b_err, rprs, rp, timeLC, fluxLC)\n",
    "    \n",
    "    star.transRange = trange\n",
    "    star.transWindow = twind \n",
    "     \n",
    "    targets.append(star)"
   ]
  },
  {
   "cell_type": "code",
   "execution_count": 103,
   "metadata": {
    "collapsed": false
   },
   "outputs": [
    {
     "name": "stdout",
     "output_type": "stream",
     "text": [
      "  ***  Quadratic Limb Darkening Coefficients: u1, u2, diffLD (u2-u1)  *** \n",
      "\n",
      "Star 201516974 : 0.7867 -0.0114 -0.7981\n",
      "Star 201920032 : 0.4089 0.2556 -0.1533\n",
      "Star 205924614 : 0.678 0.0894 -0.5886\n",
      "Star 205985357 : 0.4415 0.2396 -0.2019\n",
      "Star 206029314 : 0.4906 0.1813 -0.3093\n",
      "Star 206038483 : 0.4089 0.2556 -0.1533\n",
      "Star 206061524 : 0.6656 0.0853 -0.5803\n",
      "Star 206082454 : 0.3858 0.2711 -0.1147\n",
      "Star 206155547 : 0.3277 0.2981 -0.0296\n",
      "Star 206245553 : 0.3643 0.2807 -0.0836\n",
      "Star 206247743 : 0.5362 0.1609 -0.3753\n",
      "Star 206311743 : 0.5508 0.1646 -0.3862\n"
     ]
    }
   ],
   "source": [
    "import kplr\n",
    "from kplr.ld import get_quad_coeffs\n",
    "\n",
    "def quadraticLD(star): #Model: Claret 2011. \n",
    "    getmu1, getmu2 = get_quad_coeffs(star.teff, star.logg, star.feh)\n",
    "    return getmu1, getmu2\n",
    "\n",
    "\n",
    "print \"  ***  Quadratic Limb Darkening Coefficients: u1, u2, diffLD (u2-u1)  *** \"\n",
    "print \"\"\n",
    "\n",
    "for star in targets:\n",
    "    mu1, mu2 = quadraticLD(star)\n",
    "    print \"Star\", star.name, \":\", mu1, mu2, mu2-mu1\n",
    "    star.u1 = mu1\n",
    "    star.u2 = mu2\n",
    "    star.diffLD = u1-u2"
   ]
  },
  {
   "cell_type": "code",
   "execution_count": 104,
   "metadata": {
    "collapsed": false
   },
   "outputs": [],
   "source": [
    "def processStar(star, section_code):\n",
    "    goodP = intro(star)  \n",
    "    mark_transits(star)\n",
    "    transit_window(star, goodP)\n",
    "    out_trans = out_transit(star)\n",
    "    oot_fit(star, section_code)"
   ]
  },
  {
   "cell_type": "code",
   "execution_count": 105,
   "metadata": {
    "collapsed": true
   },
   "outputs": [],
   "source": [
    "def intro(star):\n",
    "    errorLC = np.std(star.fluxLC)\n",
    "    meanFlux = np.mean(star.fluxLC)\n",
    "    goodPoints = star.fluxLC <= meanFlux+3*errorLC\n",
    "    return goodPoints"
   ]
  },
  {
   "cell_type": "code",
   "execution_count": 106,
   "metadata": {
    "collapsed": true
   },
   "outputs": [],
   "source": [
    "def mark_transits(star):\n",
    "    \n",
    "    minTime = min(star.timeLC)\n",
    "    maxTime = max(star.timeLC)\n",
    "       \n",
    "    def my_range(start, end, step):\n",
    "        while start <= end:\n",
    "            yield start\n",
    "            start += step\n",
    "      \n",
    "    minepoch = -20\n",
    "    maxepoch = 20\n",
    "    numepochs = maxepoch-minepoch+1\n",
    "    \n",
    "    transitLoc = np.empty(numepochs)\n",
    "\n",
    "    for x in my_range(minepoch, maxepoch, 1):\n",
    "        transit = star.midts+x*star.per\n",
    "        transitLoc[x-minepoch]=transit\n",
    "\n",
    "    goodTrans = (transitLoc<=maxTime) & (transitLoc>=minTime) # Returns boolean\n",
    "    transits = transitLoc[goodTrans] # Stores transit times\n",
    "    \n",
    "    star.transits = transits\n",
    "    \n",
    "def transit_window(star, goodP):\n",
    "    t = star.timeLC[goodP]\n",
    "    f = star.fluxLC[goodP]\n",
    "    \n",
    "    window = star.transWindow # In days\n",
    "    sumPoints = 0\n",
    "     \n",
    "    for i in range(0,len(star.transits)):\n",
    "        selPoints = np.abs(t - star.transits[i]) <= window\n",
    "        sumPoints = np.sum(selPoints) + sumPoints\n",
    "\n",
    "    t_trans = np.empty(sumPoints)\n",
    "    f_trans = np.empty(sumPoints)\n",
    "    Flag = np.empty(sumPoints)\n",
    "    midTrans = np.empty(sumPoints)\n",
    "\n",
    "    sumPoints = 0\n",
    "\n",
    "    for i in range(0, len(star.transits)):\n",
    "        selPoints = np.abs(t - star.transits[i]) <= window\n",
    "        numPoints = np.sum(selPoints)\n",
    "        t_trans[(0 + sumPoints):(numPoints + sumPoints)] = t[selPoints]\n",
    "        f_trans[(0 + sumPoints):(numPoints + sumPoints)] = f[selPoints]\n",
    "        Flag[(0+sumPoints):(numPoints + sumPoints)] = i\n",
    "        midTrans[(0 + sumPoints):(numPoints + sumPoints)] = star.transits[i] \n",
    "        sumPoints = numPoints + sumPoints\n",
    "   \n",
    "    dT = t_trans-midTrans\n",
    "    \n",
    "    star.flag = Flag\n",
    "    star.f_trans = f_trans\n",
    "    star.t_trans = t_trans \n",
    "    star.dt = dT"
   ]
  },
  {
   "cell_type": "code",
   "execution_count": 107,
   "metadata": {
    "collapsed": true
   },
   "outputs": [],
   "source": [
    "def out_transit(star):\n",
    "    #print \"Range of the transit (visual estimate):\", star.transRange\n",
    "    dataBool = np.abs(star.dt) >= star.transRange # If true, point is outside of the transit.\n",
    "    out = (star.t_trans <= star.transRange) & (star.t_trans >= star.transRange) # Boolean array. Tells which points are outside the transit.\n",
    "    return out"
   ]
  },
  {
   "cell_type": "code",
   "execution_count": 108,
   "metadata": {
    "collapsed": true
   },
   "outputs": [],
   "source": [
    "def oot_fit(star, part): \n",
    "    \n",
    "    corFlux = star.f_trans\n",
    "    \n",
    "    for i in range(0,len(star.transits)):\n",
    "        transitBool = (star.flag == i)\n",
    "        outsideBool = (np.abs(star.dt) >= star.transRange) & (star.flag == i)\n",
    "        \n",
    "        if len(star.dt[outsideBool] != 0): \n",
    "            z = np.polyfit((star.dt[outsideBool]), star.f_trans[outsideBool], 1)\n",
    "            p = np.poly1d(z)\n",
    "            corFlux[transitBool] = star.f_trans[transitBool]/p(star.dt[transitBool]) # Divide transit by fit.\n",
    "        \n",
    "        else: \n",
    "            star.transits[i] = 0.0\n",
    "   \n",
    "    # ------- Fix length of star.transits vector (if necessary) ------- \n",
    "    \n",
    "    new_a = np.empty(0)\n",
    "     \n",
    "    for k in range(0,len(star.transits)):\n",
    "        if star.transits[k] != 0.0:\n",
    "            new_a = np.append(new_a, star.transits[k])\n",
    "   \n",
    "    star.transits = new_a\n",
    "    \n",
    "    # ------- Fix length of star.flag, star.f_trans, star.t_trans, and star.dt vectors (if necessary)\n",
    "    \n",
    "    sumPoints = 0\n",
    "    \n",
    "    for i in range(0,len(star.transits)):\n",
    "        selPoints = np.abs(star.t_trans - star.transits[i]) <= star.transWindow\n",
    "        sumPoints = np.sum(selPoints) + sumPoints\n",
    "\n",
    "    t_trans = np.empty(sumPoints)\n",
    "    f_trans = np.empty(sumPoints)\n",
    "    Flag = np.empty(sumPoints)\n",
    "    midTrans = np.empty(sumPoints)\n",
    "\n",
    "    sumPoints = 0\n",
    "\n",
    "    for i in range(0,len(star.transits)):\n",
    "        selPoints = np.abs(star.t_trans - star.transits[i]) <= star.transWindow\n",
    "        numPoints = np.sum(selPoints)\n",
    "        t_trans[(0 + sumPoints):(numPoints + sumPoints)] = star.t_trans[selPoints]\n",
    "        f_trans[(0 + sumPoints):(numPoints + sumPoints)] = star.f_trans[selPoints]\n",
    "        Flag[(0+sumPoints):(numPoints + sumPoints)] = i\n",
    "        midTrans[(0 + sumPoints):(numPoints + sumPoints)] = star.transits[i] \n",
    "        sumPoints = numPoints + sumPoints\n",
    "   \n",
    "    dT = t_trans-midTrans\n",
    "    \n",
    "    star.flag = Flag\n",
    "    star.t_trans = t_trans \n",
    "    star.f_trans = f_trans \n",
    "    star.dt = dT\n",
    "    \n",
    "    # Correct Flux again (needed if we had to some star.transits didn't have data)\n",
    "    \n",
    "    corFlux2 = star.f_trans\n",
    "    \n",
    "    for i in range(0,len(star.transits)):\n",
    "        transitBool = (star.flag == i)\n",
    "        outsideBool = (np.abs(star.dt) >= star.transRange) & (star.flag == i)\n",
    "        z = np.polyfit((star.dt[outsideBool]), star.f_trans[outsideBool], 1)\n",
    "        p = np.poly1d(z)\n",
    "        corFlux2[transitBool] = star.f_trans[transitBool]/p(star.dt[transitBool]) \n",
    "    \n",
    "    #Calculate the standard dev. of the folded LC \n",
    "    \n",
    "    star.f_trans = corFlux2\n",
    "    \n",
    "    outside_foldedLC = np.abs(star.dt) >= star.transRange\n",
    "    err_folded = np.std(corFlux2[outside_foldedLC])\n",
    "       \n",
    "    if part == 3: \n",
    "        star.error_foldedLC = err_folded\n",
    "    if part == 4: \n",
    "        star.error_foldedLC_final = err_folded"
   ]
  },
  {
   "cell_type": "code",
   "execution_count": 109,
   "metadata": {
    "collapsed": false
   },
   "outputs": [
    {
     "name": "stdout",
     "output_type": "stream",
     "text": [
      "\n",
      " *******  Star  201516974   *******\n",
      "\n",
      "   -> Error of the out-of-transit flux for the phase-folded LC:  0.000219812380688\n",
      "   -> Nº of observed transits:  2\n",
      "\n",
      "------------------------------------------------------------\n",
      "\n",
      " *******  Star  201920032   *******\n",
      "\n",
      "   -> Error of the out-of-transit flux for the phase-folded LC:  0.000165048310974\n",
      "   -> Nº of observed transits:  3\n",
      "\n",
      "------------------------------------------------------------\n",
      "\n",
      " *******  Star  205924614   *******\n",
      "\n",
      "   -> Error of the out-of-transit flux for the phase-folded LC:  0.000146763409269\n",
      "   -> Nº of observed transits:  19\n",
      "\n",
      "------------------------------------------------------------\n",
      "\n",
      " *******  Star  205985357   *******\n",
      "\n",
      "   -> Error of the out-of-transit flux for the phase-folded LC:  0.00551468343697\n",
      "   -> Nº of observed transits:  13\n",
      "\n",
      "------------------------------------------------------------\n",
      "\n",
      " *******  Star  206029314   *******\n",
      "\n",
      "   -> Error of the out-of-transit flux for the phase-folded LC:  0.000338713882052\n",
      "   -> Nº of observed transits:  10\n",
      "\n",
      "------------------------------------------------------------\n",
      "\n",
      " *******  Star  206038483   *******\n",
      "\n",
      "   -> Error of the out-of-transit flux for the phase-folded LC:  0.000160370034265\n",
      "   -> Nº of observed transits:  20\n",
      "\n",
      "------------------------------------------------------------\n",
      "\n",
      " *******  Star  206061524   *******\n",
      "\n",
      "   -> Error of the out-of-transit flux for the phase-folded LC:  0.000223955187886\n",
      "   -> Nº of observed transits:  9\n",
      "\n",
      "------------------------------------------------------------\n",
      "\n",
      " *******  Star  206082454   *******\n",
      "\n",
      "   -> Error of the out-of-transit flux for the phase-folded LC:  6.73039505317e-05\n",
      "   -> Nº of observed transits:  2\n",
      "\n",
      "------------------------------------------------------------\n",
      "\n",
      " *******  Star  206155547   *******\n",
      "\n",
      "   -> Error of the out-of-transit flux for the phase-folded LC:  0.000244882412193\n",
      "   -> Nº of observed transits:  3\n",
      "\n",
      "------------------------------------------------------------\n",
      "\n",
      " *******  Star  206245553   *******\n",
      "\n",
      "   -> Error of the out-of-transit flux for the phase-folded LC:  6.09692013114e-05\n",
      "   -> Nº of observed transits:  8\n",
      "\n",
      "------------------------------------------------------------\n",
      "\n",
      " *******  Star  206247743   *******\n",
      "\n",
      "   -> Error of the out-of-transit flux for the phase-folded LC:  0.000108338756004\n",
      "   -> Nº of observed transits:  14\n",
      "\n",
      "------------------------------------------------------------\n",
      "\n",
      " *******  Star  206311743   *******\n",
      "\n",
      "   -> Error of the out-of-transit flux for the phase-folded LC:  0.000834467064107\n",
      "   -> Nº of observed transits:  12\n",
      "\n",
      "------------------------------------------------------------\n"
     ]
    }
   ],
   "source": [
    "section_code = 3\n",
    "\n",
    "for star in targets:\n",
    "    processStar(star, section_code)\n",
    "    print \"\"\n",
    "    print \" *******  Star \", star.name,\"  *******\"\n",
    "    print \"\"\n",
    "    print \"   -> Error of the out-of-transit flux for the phase-folded LC: \", star.error_foldedLC\n",
    "    print \"   -> Nº of observed transits: \", len(star.transits)\n",
    "    \n",
    "    print \"\"\n",
    "    print \"------------------------------------------------------------\""
   ]
  },
  {
   "cell_type": "code",
   "execution_count": 111,
   "metadata": {
    "collapsed": false
   },
   "outputs": [
    {
     "name": "stdout",
     "output_type": "stream",
     "text": [
      "9\n",
      "Nº of systems that will undergo MCMC: 8\n",
      "Star  201516974\n",
      "Star  201920032\n",
      "Star  205924614\n",
      "Star  206029314\n",
      "Star  206061524\n",
      "Star  206082454\n",
      "Star  206155547\n",
      "Star  206245553\n",
      "8\n"
     ]
    }
   ],
   "source": [
    "new_targets = targets\n",
    "print len(new_targets)\n",
    "\n",
    "count = 0\n",
    "\n",
    "for star in new_targets:\n",
    "    if star.name == \"205985357\": # False Positive\n",
    "        new_targets.pop(count)\n",
    "    if star.name == \"206038483\": #Missing 3 transits....\n",
    "        new_targets.pop(count)\n",
    "    if star.name == \"206247743\": #False Positive \n",
    "        new_targets.pop(count)\n",
    "    if star.name == \"206311743\": #False Positive \n",
    "        new_targets.pop(count)\n",
    "    count+=1\n",
    "\n",
    "print \"Nº of systems that will undergo MCMC:\", len(new_targets)\n",
    "\n",
    "for star in new_targets:\n",
    "    print \"Star \", star.name\n",
    "\n",
    "print len(new_targets)"
   ]
  },
  {
   "cell_type": "code",
   "execution_count": 112,
   "metadata": {
    "collapsed": false,
    "scrolled": true
   },
   "outputs": [
    {
     "name": "stdout",
     "output_type": "stream",
     "text": [
      "1 ) *************** Star 201516974  ***************\n",
      "\n",
      "  -> Number of observed transits: 2\n",
      "\n",
      "  -> Observed transit times:\n",
      "[ 1986.79371287  2023.51527067]\n",
      "\n",
      "  -> Best linear fit of Observed Transit Times: \n",
      "Period =  36.7215578 days\n",
      "t0 =  1986.79371287\n",
      "\n",
      "  -> Optimal Values:\n",
      "Period =  36.7215578 +/- 0.0\n",
      "Transit Time =  1986.79371287 +/- 0.0\n",
      " \n"
     ]
    },
    {
     "data": {
      "image/png": "[encoded data removed]",
      "text/plain": [
       "<matplotlib.figure.Figure at 0x105ff9c50>"
      ]
     },
     "metadata": {},
     "output_type": "display_data"
    },
    {
     "name": "stdout",
     "output_type": "stream",
     "text": [
      "\n",
      "2 ) *************** Star 201920032  ***************\n",
      "\n",
      "  -> Number of observed transits: 3\n",
      "\n",
      "  -> Observed transit times:\n",
      "[ 2000.20592428  2028.46719716  2056.74828266]\n",
      "\n",
      "  -> Best linear fit of Observed Transit Times: \n",
      "Period =  28.27117919 days\n",
      "t0 =  2000.20262218\n",
      "\n",
      "  -> Optimal Values:\n",
      "Period =  28.2707363144 +/- 0.00398961214749\n",
      "Transit Time =  2000.2047406 +/- 0.00469581407939\n",
      " \n"
     ]
    },
    {
     "data": {
      "image/png": "[encoded data removed]",
      "text/plain": [
       "<matplotlib.figure.Figure at 0x105ff9ad0>"
      ]
     },
     "metadata": {},
     "output_type": "display_data"
    },
    {
     "name": "stdout",
     "output_type": "stream",
     "text": [
      "\n",
      "3 ) *************** Star 205924614  ***************\n",
      "\n",
      "  -> Number of observed transits: 19\n",
      "\n",
      "  -> Observed transit times:\n",
      "[ 2150.42409694  2156.12197489  2158.9714867   2161.82072446  2164.66795198\n",
      "  2170.36755541  2173.21693895  2176.06548744  2178.91425179  2181.76358963\n",
      "  2184.6141442   2187.46287966  2190.31353283  2193.16317082  2196.0112458\n",
      "  2198.86009608  2201.71049742  2204.55899131  2207.40938719]\n",
      "\n",
      "  -> Best linear fit of Observed Transit Times: \n",
      "Period =  3.06922182035 days\n",
      "t0 =  2153.2421617\n",
      "\n",
      "  -> Optimal Values:\n",
      "Period =  3.07117516736 +/- 0.0422156289332\n",
      "Transit Time =  2153.14380753 +/- 0.441803285584\n",
      " \n"
     ]
    },
    {
     "data": {
      "image/png": "[encoded data removed]",
      "text/plain": [
       "<matplotlib.figure.Figure at 0x10be7f110>"
      ]
     },
     "metadata": {},
     "output_type": "display_data"
    },
    {
     "name": "stdout",
     "output_type": "stream",
     "text": [
      "\n",
      "4 ) *************** Star 206029314  ***************\n",
      "\n",
      "  -> Number of observed transits: 10\n",
      "\n",
      "  -> Observed transit times:\n",
      "[ 2148.0691844   2155.09507858  2162.11980159  2169.1463519   2176.17262262\n",
      "  2183.19764832  2190.2235004   2197.25009619  2204.27621952  2211.30195231]\n",
      "\n",
      "  -> Best linear fit of Observed Transit Times: \n",
      "Period =  7.02588389073 days\n",
      "t0 =  2148.06876807\n",
      "\n",
      "  -> Optimal Values:\n",
      "Period =  7.02583841052 +/- 4.85230789017e-05\n",
      "Transit Time =  2148.06903379 +/- 0.000214182171157\n",
      " \n"
     ]
    },
    {
     "data": {
      "image/png": "[encoded data removed]",
      "text/plain": [
       "<matplotlib.figure.Figure at 0x10be7f210>"
      ]
     },
     "metadata": {},
     "output_type": "display_data"
    },
    {
     "name": "stdout",
     "output_type": "stream",
     "text": [
      "\n",
      "5 ) *************** Star 206061524  ***************\n",
      "\n",
      "  -> Number of observed transits: 9\n",
      "\n",
      "  -> Observed transit times:\n",
      "[ 2153.32286787  2159.20341281  2165.08369367  2170.96235057  2176.84244951\n",
      "  2188.60189888  2194.47809666  2206.2371505   2212.12302156]\n",
      "\n",
      "  -> Best linear fit of Observed Transit Times: \n",
      "Period =  7.54550303533 days\n",
      "t0 =  2150.57964808\n",
      "\n",
      "  -> Optimal Values:\n",
      "Period =  7.36010912959 +/- 0.3363018914\n",
      "Transit Time =  2150.91931417 +/- 1.36789613456\n",
      " \n"
     ]
    },
    {
     "data": {
      "image/png": "[encoded data removed]",
      "text/plain": [
       "<matplotlib.figure.Figure at 0x10bee1e50>"
      ]
     },
     "metadata": {},
     "output_type": "display_data"
    },
    {
     "name": "stdout",
     "output_type": "stream",
     "text": [
      "\n",
      "6 ) *************** Star 206082454  ***************\n",
      "\n",
      "  -> Number of observed transits: 2\n",
      "\n",
      "  -> Observed transit times:\n",
      "[ 2160.54008315  2190.16613678]\n",
      "\n",
      "  -> Best linear fit of Observed Transit Times: \n",
      "Period =  29.62605363 days\n",
      "t0 =  2160.54008315\n",
      "\n",
      "  -> Optimal Values:\n",
      "Period =  29.62605363 +/- 0.0\n",
      "Transit Time =  2160.54008315 +/- 0.0\n",
      " \n"
     ]
    },
    {
     "data": {
      "image/png": "[encoded data removed]",
      "text/plain": [
       "<matplotlib.figure.Figure at 0x105f6a350>"
      ]
     },
     "metadata": {},
     "output_type": "display_data"
    },
    {
     "name": "stdout",
     "output_type": "stream",
     "text": [
      "\n",
      "7 ) *************** Star 206155547  ***************\n",
      "\n",
      "  -> Number of observed transits: 3\n",
      "\n",
      "  -> Observed transit times:\n",
      "[ 2152.88399927  2177.27253274  2201.65845314]\n",
      "\n",
      "  -> Best linear fit of Observed Transit Times: \n",
      "Period =  24.387226935 days\n",
      "t0 =  2152.88443478\n",
      "\n",
      "  -> Optimal Values:\n",
      "Period =  24.3874161985 +/- 0.000604764080081\n",
      "Transit Time =  2152.88411735 +/- 0.000542786621097\n",
      " \n"
     ]
    },
    {
     "data": {
      "image/png": "[encoded data removed]",
      "text/plain": [
       "<matplotlib.figure.Figure at 0x105fd28d0>"
      ]
     },
     "metadata": {},
     "output_type": "display_data"
    },
    {
     "name": "stdout",
     "output_type": "stream",
     "text": [
      "\n",
      "8 ) *************** Star 206245553  ***************\n",
      "\n",
      "  -> Number of observed transits: 8\n",
      "\n",
      "  -> Observed transit times:\n",
      "[ 2154.67125465  2162.17096198  2169.66309965  2177.16830107  2184.65593305\n",
      "  2192.14512031  2199.64630652  2207.14025616]\n",
      "\n",
      "  -> Best linear fit of Observed Transit Times: \n",
      "Period =  7.49515984798 days\n",
      "t0 =  2154.67459471\n",
      "\n",
      "  -> Optimal Values:\n",
      "Period =  7.49552704944 +/- 0.000503427946893\n",
      "Transit Time =  2154.67245231 +/- 0.00159095236909\n",
      " \n"
     ]
    },
    {
     "data": {
      "image/png": "[encoded data removed]",
      "text/plain": [
       "<matplotlib.figure.Figure at 0x10cd3fa90>"
      ]
     },
     "metadata": {},
     "output_type": "display_data"
    },
    {
     "name": "stdout",
     "output_type": "stream",
     "text": [
      "\n"
     ]
    }
   ],
   "source": [
    "count = 1\n",
    "\n",
    "for star in new_targets:\n",
    "    t0 = np.loadtxt('2_'+star.name+'t0_mcmc.txt', skiprows=1)\n",
    "    t0_obs = t0[:,0]\n",
    "    t0_uppererr = t0[:,1]\n",
    "    t0_lowererr = t0[:,2]\n",
    "    print count, \") *************** Star\", star.name, \" ***************\"\n",
    "    print \"\"\n",
    "    print \"  -> Number of observed transits:\", len(star.transits)\n",
    "    print \"\"\n",
    "    print \"  -> Observed transit times:\"\n",
    "    print t0_obs\n",
    "    print \"\"\n",
    "    \n",
    "    opt_values, err = oc(star, t0_obs, t0_uppererr, t0_lowererr)\n",
    "    \n",
    "    print \"\"\n",
    "     \n",
    "    #np.savetxt('2_'+star.name+'finalp0t0.txt', np.transpose([opt_values,err]), fmt='%.10f', \n",
    "    #          delimiter = ' ', header = \"\"\"Column 1 shows the period (row 1) and its uncertainty (row 2). \n",
    "    #           Column 2 gives t0 (row 1) and its uncertainty (row 2). Light curves with only two\n",
    "    #           transits have uncertainties equal to 0.0. This is NOT because 0.0 is their \n",
    "    #           actual value, but because we couldn't calculate it with only two points.\n",
    "    #           \"\"\")\n",
    "    \n",
    "    count += 1"
   ]
  },
  {
   "cell_type": "code",
   "execution_count": 114,
   "metadata": {
    "collapsed": false
   },
   "outputs": [],
   "source": [
    "def func(x, a, b): \n",
    "    return (a*x + b)\n",
    "\n",
    "def oc(star, obst0, upper_error, lower_error):\n",
    "    \n",
    "    n = np.empty(len(star.transits))\n",
    "    tobs = np.empty(len(star.transits))\n",
    "    tobsErr = np.empty(len(star.transits))\n",
    "    \n",
    "    for i in range(0,len(n)):\n",
    "        n[i] = i\n",
    "          \n",
    "    for i in range (len(star.transits)):\n",
    "        aux = obst0[i]\n",
    "        auxerr = (upper_error[i] + lower_error[i])/2 \n",
    "        tobs[i] = aux\n",
    "        tobsErr[i] = auxerr \n",
    "  \n",
    "    k = np.polyfit(n, tobs, 1) #Linear fit \n",
    "   \n",
    "    slopeP = k[0]\n",
    "    t0Final = k[1]\n",
    "    \n",
    "    print \"  -> Best linear fit of Observed Transit Times: \"\n",
    "    print \"Period = \", slopeP, \"days\"\n",
    "    print \"t0 = \", t0Final\n",
    "    print \"\"\n",
    "    \n",
    "    popt, pcov = op.curve_fit(func, n, tobs, p0 = [slopeP, t0Final], sigma = tobsErr)\n",
    "    \n",
    "    \"\"\"\n",
    "        popt: Optimal values for the parameters so that the sum of the squared error of \"f(xdata, *popt) - ydata\" \n",
    "        is minimized. (Array)\n",
    "\n",
    "        pcov: The estimated covariance of popt. The diagonals provide the variance of the parameter estimate. \n",
    "        To compute one standard deviation errors on the parameters use perr = np.sqrt(np.diag(pcov)). (2D Array)\n",
    "    \"\"\"\n",
    "    perr = np.sqrt(np.diag(pcov)) #Entry 0 = Error of period; Entry 1 = Error of t0\n",
    "    \n",
    "    if len(star.transits) == 2: # With 2 points, can't calculate the error\n",
    "        perr[0] = 0.0\n",
    "        perr[1] = 0.0 #To be improved.\n",
    "\n",
    "    print \"  -> Optimal Values:\"\n",
    "    print \"Period = \", popt[0], \"+/-\", perr[0]\n",
    "    print \"Transit Time = \", popt[1], \"+/-\", perr[1]\n",
    "    print \" \"\n",
    "    \n",
    "    o_c = np.array(tobs) - popt[1] - popt[0]*np.array(n) # residuals = t obs(n) - t0 - P*n'\n",
    "   \n",
    "    plt.figure()\n",
    "    asymmetric_error = [lower_error, upper_error]\n",
    "    \n",
    "    plt.errorbar(tobs, o_c, yerr = asymmetric_error, fmt='o')\n",
    "    plt.xlabel('T obs(n)')\n",
    "    plt.ylabel('O-C Residuals (days)') #Residuals t obs(n) - t0 - P*n'\n",
    "    plt.title('Residuals for Star '+ star.name, fontsize = 15)\n",
    "    plt.show()\n",
    "    \n",
    "    return popt, perr"
   ]
  }
 ],
 "metadata": {
  "kernelspec": {
   "display_name": "Python 2",
   "language": "python",
   "name": "python2"
  },
  "language_info": {
   "codemirror_mode": {
    "name": "ipython",
    "version": 2
   },
   "file_extension": ".py",
   "mimetype": "text/x-python",
   "name": "python",
   "nbconvert_exporter": "python",
   "pygments_lexer": "ipython2",
   "version": "2.7.11"
  }
 },
 "nbformat": 4,
 "nbformat_minor": 0
}
